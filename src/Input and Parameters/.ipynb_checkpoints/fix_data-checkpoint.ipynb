{
 "cells": [
  {
   "cell_type": "code",
   "execution_count": 1,
   "id": "f5157663",
   "metadata": {},
   "outputs": [],
   "source": [
    "# Data\n",
    "\n",
    "length = 62\n",
    "dataset = []\n",
    "with open(\"te_data_sm.dat\") as f:\n",
    "    lines = f.readlines()\n",
    "    lines = [line.zfill(len(line)).strip('\\n') for line in lines]\n",
    "    num_of_testcases = len(lines)//length\n",
    "    for m in range(num_of_testcases):        \n",
    "        dataset.append(''.join(lines[(m)*length:(m+1)*length]))\n",
    "\n",
    "with open(\"fixed_te_data_sm.dat\", \"w\") as f:\n",
    "    print('\\n'.join(dataset), file=f)\n",
    "        \n"
   ]
  },
  {
   "cell_type": "code",
   "execution_count": 2,
   "id": "ca49c246",
   "metadata": {},
   "outputs": [],
   "source": [
    "# Bias\n",
    "\n",
    "layer_count = 2\n",
    "for i in range(1, layer_count+1):\n",
    "    with open(\"b\"+str(i)+\"_sm.dat\") as f:\n",
    "        lines = f.readlines()\n",
    "        lines = [line.zfill(len(line)).strip('\\n') for line in lines]\n",
    "\n",
    "    with open(\"fixed_b\"+str(i)+\"_sm.dat\", \"w\") as f:\n",
    "        print('\\n'.join(lines), file=f)\n",
    "        "
   ]
  },
  {
   "cell_type": "code",
   "execution_count": 3,
   "id": "bbd6ef99",
   "metadata": {},
   "outputs": [],
   "source": [
    "# Weight\n",
    "\n",
    "prev_layer_len = length\n",
    "for i in range(1, layer_count+1):\n",
    "    weights = []\n",
    "    with open(\"w\"+str(i)+\"_sm.dat\") as f:\n",
    "        lines = f.readlines()\n",
    "        lines = [line.zfill(len(line)).strip('\\n') for line in lines]\n",
    "        neuron_cnt = len(lines)//prev_layer_len\n",
    "        for m in range(neuron_cnt):        \n",
    "            weights.append(''.join(lines[(m)*prev_layer_len:(m+1)*prev_layer_len]))\n",
    "        prev_layer_len = neuron_cnt\n",
    "\n",
    "    with open(\"fixed_w\"+str(i)+\"_sm.dat\", \"w\") as f:\n",
    "        print('\\n'.join(weights), file=f)"
   ]
  },
  {
   "cell_type": "code",
   "execution_count": null,
   "id": "88da995b",
   "metadata": {},
   "outputs": [],
   "source": []
  }
 ],
 "metadata": {
  "kernelspec": {
   "display_name": "Python 3 (ipykernel)",
   "language": "python",
   "name": "python3"
  },
  "language_info": {
   "codemirror_mode": {
    "name": "ipython",
    "version": 3
   },
   "file_extension": ".py",
   "mimetype": "text/x-python",
   "name": "python",
   "nbconvert_exporter": "python",
   "pygments_lexer": "ipython3",
   "version": "3.9.7"
  }
 },
 "nbformat": 4,
 "nbformat_minor": 5
}

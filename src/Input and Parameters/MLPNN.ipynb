{
  "nbformat": 4,
  "nbformat_minor": 0,
  "metadata": {
    "colab": {
      "name": "Untitled1.ipynb",
      "provenance": [],
      "collapsed_sections": []
    },
    "kernelspec": {
      "name": "python3",
      "display_name": "Python 3"
    },
    "language_info": {
      "name": "python"
    }
  },
  "cells": [
    {
      "cell_type": "code",
      "source": [
        "from __future__ import absolute_import\n",
        "from __future__ import division\n",
        "from __future__ import print_function\n",
        "\n",
        "import numpy as np\n",
        "from sklearn.model_selection import train_test_split\n",
        "from tensorflow.keras.models import Sequential\n",
        "from tensorflow.keras.layers import Dense, Activation, Dropout\n",
        "from tensorflow.keras.utils import to_categorical, plot_model\n",
        "from tensorflow.keras.datasets import mnist\n",
        "from tensorflow.keras.backend import clear_session\n",
        "\n",
        "import ast"
      ],
      "metadata": {
        "id": "BOPCQhtn4eTX"
      },
      "execution_count": null,
      "outputs": []
    },
    {
      "cell_type": "code",
      "source": [
        "input_size = 62"
      ],
      "metadata": {
        "id": "2Qy81K9-_FXa"
      },
      "execution_count": null,
      "outputs": []
    },
    {
      "cell_type": "code",
      "source": [
        "labels =  [int(i.strip()) for i in open(\"./te_label_sm.dat\").readlines()]\n",
        "len(labels)"
      ],
      "metadata": {
        "colab": {
          "base_uri": "https://localhost:8080/"
        },
        "id": "tuuYcqlG-ruo",
        "outputId": "1495f17a-f9cd-44be-a8cb-e9999e2eb294"
      },
      "execution_count": null,
      "outputs": [
        {
          "output_type": "execute_result",
          "data": {
            "text/plain": [
              "750"
            ]
          },
          "metadata": {},
          "execution_count": 3
        }
      ]
    },
    {
      "cell_type": "code",
      "source": [
        "# load mnist dataset\n",
        "data = []\n",
        "\n",
        "j = 0\n",
        "i = 0\n",
        "with open(\"./te_data_sm.dat\") as fd:\n",
        "  for j in range(750):\n",
        "    _input = []\n",
        "    for i in range(62):\n",
        "      el = fd.readline()\n",
        "      _input.append(int(el.strip(), 16))\n",
        "      if _input[i] > 127:\n",
        "        _input[i] = -(_input[i] - 128)\n",
        "    data.append(_input)\n",
        "\n",
        "print(data[0])\n",
        "print(len(data[0]))\n",
        "print(len(data))"
      ],
      "metadata": {
        "colab": {
          "base_uri": "https://localhost:8080/"
        },
        "id": "hE8hKBxb8R6X",
        "outputId": "a3b906ad-99e0-4517-a805-6a437730f66e"
      },
      "execution_count": null,
      "outputs": [
        {
          "output_type": "stream",
          "name": "stdout",
          "text": [
            "[-127, -114, -24, -127, -93, 92, 125, 110, 126, -127, -104, 96, 61, -84, -122, 79, -127, -21, 69, -123, -115, 15, 94, -127, -25, 72, -39, 72, 95, -78, -127, -66, 126, 126, 106, -103, -127, 54, 126, 79, -40, 65, -58, -127, 59, -62, -127, -127, -48, 26, -127, 3, -124, -124, -54, 109, 5, 109, 102, 104, 116, 17]\n",
            "62\n",
            "750\n"
          ]
        }
      ]
    },
    {
      "cell_type": "code",
      "source": [
        "data = np.array(data)\n",
        "labels = np.array(labels)"
      ],
      "metadata": {
        "id": "DzXezEH3Fh5n"
      },
      "execution_count": null,
      "outputs": []
    },
    {
      "cell_type": "code",
      "source": [
        "# compute the number of labels\n",
        "num_labels = len(np.unique(labels))\n",
        "num_labels"
      ],
      "metadata": {
        "colab": {
          "base_uri": "https://localhost:8080/"
        },
        "id": "lEl0VelR8O5H",
        "outputId": "257850db-aa57-4535-d820-798dd22f0289"
      },
      "execution_count": null,
      "outputs": [
        {
          "output_type": "execute_result",
          "data": {
            "text/plain": [
              "10"
            ]
          },
          "metadata": {},
          "execution_count": 6
        }
      ]
    },
    {
      "cell_type": "code",
      "source": [
        "# convert to one-hot vector\n",
        "labels = to_categorical(labels, num_labels)\n",
        "labels[0]"
      ],
      "metadata": {
        "id": "QQlAAt8tGIiW",
        "colab": {
          "base_uri": "https://localhost:8080/"
        },
        "outputId": "23a9a4cb-d82a-4050-e3b7-3f033a47402a"
      },
      "execution_count": null,
      "outputs": [
        {
          "output_type": "execute_result",
          "data": {
            "text/plain": [
              "array([0., 0., 0., 0., 0., 0., 0., 0., 1., 0.], dtype=float32)"
            ]
          },
          "metadata": {},
          "execution_count": 7
        }
      ]
    },
    {
      "cell_type": "code",
      "source": [
        "# network parameters\n",
        "batch_size = 32\n",
        "\n",
        "# model is a 3-layer MLP with ReLU and dropout after each layer\n",
        "model = Sequential(\n",
        "    [\n",
        "     Dense(30, input_dim=input_size, activation='relu'),\n",
        "     Dense(num_labels, activation='softmax')\n",
        "    ]\n",
        ")\n",
        "model.summary()\n",
        "\n",
        "model.compile(loss='categorical_crossentropy',\n",
        "              optimizer='adam',\n",
        "              metrics=['accuracy'])"
      ],
      "metadata": {
        "colab": {
          "base_uri": "https://localhost:8080/"
        },
        "id": "WtIm5bX_8BeJ",
        "outputId": "2f81a296-d79b-4383-b62e-73f3c30c3d46"
      },
      "execution_count": null,
      "outputs": [
        {
          "output_type": "stream",
          "name": "stdout",
          "text": [
            "Model: \"sequential\"\n",
            "_________________________________________________________________\n",
            " Layer (type)                Output Shape              Param #   \n",
            "=================================================================\n",
            " dense (Dense)               (None, 30)                1890      \n",
            "                                                                 \n",
            " dense_1 (Dense)             (None, 10)                310       \n",
            "                                                                 \n",
            "=================================================================\n",
            "Total params: 2,200\n",
            "Trainable params: 2,200\n",
            "Non-trainable params: 0\n",
            "_________________________________________________________________\n"
          ]
        }
      ]
    },
    {
      "cell_type": "code",
      "source": [
        "clear_session()\n",
        "# train the network\n",
        "model.fit(data, labels, epochs=20, batch_size=32)"
      ],
      "metadata": {
        "colab": {
          "base_uri": "https://localhost:8080/"
        },
        "id": "LKpkGwi10yem",
        "outputId": "56e2dc25-36cc-45d0-fe33-0114b9efc313"
      },
      "execution_count": null,
      "outputs": [
        {
          "output_type": "stream",
          "name": "stdout",
          "text": [
            "Epoch 1/20\n",
            "24/24 [==============================] - 0s 2ms/step - loss: 4.0641 - accuracy: 0.8200\n",
            "Epoch 2/20\n",
            "24/24 [==============================] - 0s 2ms/step - loss: 3.3811 - accuracy: 0.8373\n",
            "Epoch 3/20\n",
            "24/24 [==============================] - 0s 2ms/step - loss: 2.8553 - accuracy: 0.8507\n",
            "Epoch 4/20\n",
            "24/24 [==============================] - 0s 2ms/step - loss: 2.4717 - accuracy: 0.8787\n",
            "Epoch 5/20\n",
            "24/24 [==============================] - 0s 2ms/step - loss: 2.1545 - accuracy: 0.8760\n",
            "Epoch 6/20\n",
            "24/24 [==============================] - 0s 2ms/step - loss: 1.7905 - accuracy: 0.9053\n",
            "Epoch 7/20\n",
            "24/24 [==============================] - 0s 2ms/step - loss: 1.5049 - accuracy: 0.9027\n",
            "Epoch 8/20\n",
            "24/24 [==============================] - 0s 2ms/step - loss: 1.2581 - accuracy: 0.9107\n",
            "Epoch 9/20\n",
            "24/24 [==============================] - 0s 2ms/step - loss: 1.0716 - accuracy: 0.9253\n",
            "Epoch 10/20\n",
            "24/24 [==============================] - 0s 2ms/step - loss: 0.9224 - accuracy: 0.9240\n",
            "Epoch 11/20\n",
            "24/24 [==============================] - 0s 2ms/step - loss: 0.7679 - accuracy: 0.9347\n",
            "Epoch 12/20\n",
            "24/24 [==============================] - 0s 2ms/step - loss: 0.6645 - accuracy: 0.9333\n",
            "Epoch 13/20\n",
            "24/24 [==============================] - 0s 2ms/step - loss: 0.5754 - accuracy: 0.9387\n",
            "Epoch 14/20\n",
            "24/24 [==============================] - 0s 2ms/step - loss: 0.4556 - accuracy: 0.9453\n",
            "Epoch 15/20\n",
            "24/24 [==============================] - 0s 2ms/step - loss: 0.3785 - accuracy: 0.9573\n",
            "Epoch 16/20\n",
            "24/24 [==============================] - 0s 2ms/step - loss: 0.2907 - accuracy: 0.9707\n",
            "Epoch 17/20\n",
            "24/24 [==============================] - 0s 2ms/step - loss: 0.2541 - accuracy: 0.9747\n",
            "Epoch 18/20\n",
            "24/24 [==============================] - 0s 2ms/step - loss: 0.2098 - accuracy: 0.9787\n",
            "Epoch 19/20\n",
            "24/24 [==============================] - 0s 2ms/step - loss: 0.1728 - accuracy: 0.9827\n",
            "Epoch 20/20\n",
            "24/24 [==============================] - 0s 2ms/step - loss: 0.1518 - accuracy: 0.9800\n"
          ]
        },
        {
          "output_type": "execute_result",
          "data": {
            "text/plain": [
              "<keras.callbacks.History at 0x7f9671f2b3d0>"
            ]
          },
          "metadata": {},
          "execution_count": 17
        }
      ]
    },
    {
      "cell_type": "code",
      "source": [
        "# validate the model on dataset\n",
        "_, acc = model.evaluate(data,\n",
        "                        labels,\n",
        "                        batch_size=batch_size,\n",
        "                        verbose=0)\n",
        "print(\"Accuracy: %.1f%%\" % (100.0 * acc))"
      ],
      "metadata": {
        "colab": {
          "base_uri": "https://localhost:8080/"
        },
        "id": "i5lu5jdT8Jg4",
        "outputId": "87c49eb6-b8de-407f-f746-8baf7f31291f"
      },
      "execution_count": null,
      "outputs": [
        {
          "output_type": "stream",
          "name": "stdout",
          "text": [
            "Accuracy: 99.1%\n"
          ]
        }
      ]
    },
    {
      "cell_type": "code",
      "source": [
        "print(len(model.layers[0].get_weights()[0])) # Hidden Layer Weights\n",
        "print(len(model.layers[0].get_weights()[1])) # Hidden Layer Bias\n",
        "print(len(model.layers[1].get_weights()[0])) # Output Layer Weights\n",
        "print(len(model.layers[1].get_weights()[1])) # Output Layer Bias"
      ],
      "metadata": {
        "colab": {
          "base_uri": "https://localhost:8080/"
        },
        "id": "_Yu5fAR2HM0m",
        "outputId": "5e40a0e4-f5dd-4c0a-fd58-6acf41e3037d"
      },
      "execution_count": null,
      "outputs": [
        {
          "output_type": "stream",
          "name": "stdout",
          "text": [
            "62\n",
            "30\n",
            "30\n",
            "10\n"
          ]
        }
      ]
    },
    {
      "cell_type": "code",
      "source": [
        "def convert_to_hex(w_or_b):\n",
        "  if (len(w_or_b.shape) == 2):\n",
        "    w_or_b = w_or_b.reshape(w_or_b.shape[1], w_or_b.shape[0])\n",
        "  hex_arr = []\n",
        "  for i in range(len(w_or_b)):\n",
        "    if (len(w_or_b.shape) == 2):\n",
        "      str = \"\"\n",
        "      for j in range(w_or_b.shape[1]):\n",
        "        if (int(w_or_b[i][j]) < 0):\n",
        "          str += hex(127-int(w_or_b[i][j])).split('x')[-1].zfill(2)\n",
        "        else:\n",
        "          str += hex(int(w_or_b[i][j])).split('x')[-1].zfill(2)\n",
        "      hex_arr.append(str)\n",
        "    else:\n",
        "      if (int(w_or_b[i]) < 0):\n",
        "        hex_arr.append(hex(127-int(w_or_b[i])).split('x')[-1].zfill(2))\n",
        "      else:\n",
        "        hex_arr.append(hex(int(w_or_b[i])).split('x')[-1].zfill(2))\n",
        "  print(len(hex_arr))\n",
        "  return hex_arr"
      ],
      "metadata": {
        "id": "wNh7bG3lXaau"
      },
      "execution_count": null,
      "outputs": []
    },
    {
      "cell_type": "code",
      "source": [
        "file_names = [\"custom_w1_sm.dat\", \"custom_b1_sm.dat\", \"custom_w2_sm.dat\", \"custom_b2_sm.dat\"]\n",
        "k = 0\n",
        "for i in range(len(model.layers)):\n",
        "  for j in range(len(model.layers[i].get_weights())):\n",
        "    print(file_names[k])\n",
        "    with open(file_names[k], 'w') as fd:\n",
        "      for str in convert_to_hex(np.array(model.layers[i].get_weights()[j]*255)):\n",
        "        print(str, file=fd)\n",
        "    k+=1"
      ],
      "metadata": {
        "colab": {
          "base_uri": "https://localhost:8080/"
        },
        "id": "di9nk1PaX4i-",
        "outputId": "cf6621f2-10c4-4270-c0d3-4627142d2bd3"
      },
      "execution_count": null,
      "outputs": [
        {
          "output_type": "stream",
          "name": "stdout",
          "text": [
            "custom_w1_sm.dat\n",
            "30\n",
            "custom_b1_sm.dat\n",
            "30\n",
            "custom_w2_sm.dat\n",
            "10\n",
            "custom_b2_sm.dat\n",
            "10\n"
          ]
        }
      ]
    },
    {
      "cell_type": "code",
      "source": [
        ""
      ],
      "metadata": {
        "id": "kZHiF6vRmlds"
      },
      "execution_count": null,
      "outputs": []
    }
  ]
}